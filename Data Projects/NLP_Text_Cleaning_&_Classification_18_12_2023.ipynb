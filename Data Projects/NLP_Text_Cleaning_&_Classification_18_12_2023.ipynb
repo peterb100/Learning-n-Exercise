{
  "nbformat": 4,
  "nbformat_minor": 0,
  "metadata": {
    "colab": {
      "provenance": []
    },
    "kernelspec": {
      "name": "python3",
      "display_name": "Python 3"
    },
    "language_info": {
      "name": "python"
    }
  },
  "cells": [
    {
      "cell_type": "markdown",
      "source": [
        "# **Text cleaning**"
      ],
      "metadata": {
        "id": "xrWMwYeh3ts-"
      }
    },
    {
      "cell_type": "code",
      "execution_count": null,
      "metadata": {
        "colab": {
          "base_uri": "https://localhost:8080/"
        },
        "id": "-c0LzGKwoilb",
        "outputId": "ebe235b0-97da-413c-ad60-b410b8fd68b0"
      },
      "outputs": [
        {
          "output_type": "stream",
          "name": "stdout",
          "text": [
            "Requirement already satisfied: contractions in /usr/local/lib/python3.10/dist-packages (0.1.73)\n",
            "Requirement already satisfied: textsearch>=0.0.21 in /usr/local/lib/python3.10/dist-packages (from contractions) (0.0.24)\n",
            "Requirement already satisfied: anyascii in /usr/local/lib/python3.10/dist-packages (from textsearch>=0.0.21->contractions) (0.3.2)\n",
            "Requirement already satisfied: pyahocorasick in /usr/local/lib/python3.10/dist-packages (from textsearch>=0.0.21->contractions) (2.0.0)\n"
          ]
        }
      ],
      "source": [
        "!pip install contractions"
      ]
    },
    {
      "cell_type": "code",
      "source": [
        "import nltk\n",
        "import inflect\n",
        "import contractions\n",
        "from bs4 import BeautifulSoup\n",
        "import re, string, unicodedata\n",
        "from nltk.corpus import stopwords\n",
        "from nltk import word_tokenize, sent_tokenize\n",
        "from nltk.stem import LancasterStemmer, WordNetLemmatizer"
      ],
      "metadata": {
        "id": "s5FMwY6zrzGb"
      },
      "execution_count": null,
      "outputs": []
    },
    {
      "cell_type": "code",
      "source": [
        "data = \"\"\"This movie made it into one of my top 10 most awful movies. Horrible. <br /><br />There wasn't a continuous minute where there wasn't a fight with one monster or another. There was no chance for any character development, they were too busy running from one sword fight to another. I had no emotional attachment (except to the big bad machine that wanted to destroy them) <br /><br />Scenes were blatantly stolen from other movies, LOTR, Star Wars and Matrix. <br /><br />Examples<br /><br />>The ghost scene at the end was stolen from the final scene of the old Star Wars with Yoda, Obee One and Vader. <br /><br />>The spider machine in the beginning was exactly like Frodo being attacked by the spider in Return of the Kings https://twitter.com/. (Elijah Wood is the victim in both films) and wait......it hypnotizes (stings) its victim and wraps them up.....uh hello????<br /><br />>And the whole machine vs. humans theme WAS the Matrix..or Terminator.....<br /><br />There are more examples but why waste the time? And will someone tell me what was with the Nazi's?!?! Nazi's???? <br /><br />There was a juvenile story line rushed to a juvenile conclusion. The movie could not decide if it was a children's movie or an adult movie and wasn't much of either. <br /><br />Just awful. A real disappointment to say the least. Save your money.\"\"\""
      ],
      "metadata": {
        "id": "pM0NR-zmxXqs"
      },
      "execution_count": null,
      "outputs": []
    },
    {
      "cell_type": "code",
      "source": [
        "data\n"
      ],
      "metadata": {
        "colab": {
          "base_uri": "https://localhost:8080/",
          "height": 122
        },
        "id": "IhXHUdRFxhx1",
        "outputId": "b60f98e8-a620-430e-ae66-b404ab12e769"
      },
      "execution_count": null,
      "outputs": [
        {
          "output_type": "execute_result",
          "data": {
            "text/plain": [
              "\"This movie made it into one of my top 10 most awful movies. Horrible. <br /><br />There wasn't a continuous minute where there wasn't a fight with one monster or another. There was no chance for any character development, they were too busy running from one sword fight to another. I had no emotional attachment (except to the big bad machine that wanted to destroy them) <br /><br />Scenes were blatantly stolen from other movies, LOTR, Star Wars and Matrix. <br /><br />Examples<br /><br />>The ghost scene at the end was stolen from the final scene of the old Star Wars with Yoda, Obee One and Vader. <br /><br />>The spider machine in the beginning was exactly like Frodo being attacked by the spider in Return of the Kings https://twitter.com/. (Elijah Wood is the victim in both films) and wait......it hypnotizes (stings) its victim and wraps them up.....uh hello????<br /><br />>And the whole machine vs. humans theme WAS the Matrix..or Terminator.....<br /><br />There are more examples but why waste the time? And will someone tell me what was with the Nazi's?!?! Nazi's???? <br /><br />There was a juvenile story line rushed to a juvenile conclusion. The movie could not decide if it was a children's movie or an adult movie and wasn't much of either. <br /><br />Just awful. A real disappointment to say the least. Save your money.\""
            ],
            "application/vnd.google.colaboratory.intrinsic+json": {
              "type": "string"
            }
          },
          "metadata": {},
          "execution_count": 250
        }
      ]
    },
    {
      "cell_type": "code",
      "source": [
        "# Remove HTML tag\n",
        "\n",
        "def html_remover(data):\n",
        "  beauti = BeautifulSoup(data, 'html.parser')\n",
        "  return beauti.get_text()\n",
        "\n",
        "def url_remover(data):\n",
        "  return re.sub(r'https\\S', '', data)\n",
        "\n",
        "def web_associated(data):\n",
        "  text = html_remover(data)\n",
        "  text = url_remover(text)\n",
        "  return text\n",
        "\n",
        "new_data = web_associated(data)"
      ],
      "metadata": {
        "id": "Yirb9dwAxkBS"
      },
      "execution_count": null,
      "outputs": []
    },
    {
      "cell_type": "code",
      "source": [
        "new_data"
      ],
      "metadata": {
        "colab": {
          "base_uri": "https://localhost:8080/",
          "height": 122
        },
        "id": "Roj8BoMTxoz3",
        "outputId": "8419c5f6-b39d-4627-d806-0d6ec58c693b"
      },
      "execution_count": null,
      "outputs": [
        {
          "output_type": "execute_result",
          "data": {
            "text/plain": [
              "\"This movie made it into one of my top 10 most awful movies. Horrible. There wasn't a continuous minute where there wasn't a fight with one monster or another. There was no chance for any character development, they were too busy running from one sword fight to another. I had no emotional attachment (except to the big bad machine that wanted to destroy them) Scenes were blatantly stolen from other movies, LOTR, Star Wars and Matrix. Examples>The ghost scene at the end was stolen from the final scene of the old Star Wars with Yoda, Obee One and Vader. >The spider machine in the beginning was exactly like Frodo being attacked by the spider in Return of the Kings //twitter.com/. (Elijah Wood is the victim in both films) and wait......it hypnotizes (stings) its victim and wraps them up.....uh hello????>And the whole machine vs. humans theme WAS the Matrix..or Terminator.....There are more examples but why waste the time? And will someone tell me what was with the Nazi's?!?! Nazi's???? There was a juvenile story line rushed to a juvenile conclusion. The movie could not decide if it was a children's movie or an adult movie and wasn't much of either. Just awful. A real disappointment to say the least. Save your money.\""
            ],
            "application/vnd.google.colaboratory.intrinsic+json": {
              "type": "string"
            }
          },
          "metadata": {},
          "execution_count": 252
        }
      ]
    },
    {
      "cell_type": "code",
      "source": [
        "def remove_round_brackets(data):\n",
        "  return re.sub('\\(.*?\\)', '', data)\n",
        "\n",
        "def remove_punc(data):\n",
        "  trans = str.maketrans('', '', string.punctuation)\n",
        "  return data.translate(trans)\n",
        "\n",
        "def white_space(data):\n",
        "  return ' '.join(data.split())\n",
        "\n",
        "def complete_noise(data):\n",
        "  new_data = remove_round_brackets(data)\n",
        "  new_data = remove_punc(new_data)\n",
        "  new_data = white_space(new_data)\n",
        "  return new_data\n",
        "\n",
        "new_data = complete_noise(new_data)"
      ],
      "metadata": {
        "id": "MSDiIyKBxql7"
      },
      "execution_count": null,
      "outputs": []
    },
    {
      "cell_type": "code",
      "source": [
        "new_data"
      ],
      "metadata": {
        "colab": {
          "base_uri": "https://localhost:8080/",
          "height": 122
        },
        "id": "ypVG-ITJxwGe",
        "outputId": "bfb0d665-b73f-4038-d958-102e592e1a16"
      },
      "execution_count": null,
      "outputs": [
        {
          "output_type": "execute_result",
          "data": {
            "text/plain": [
              "'This movie made it into one of my top 10 most awful movies Horrible There wasnt a continuous minute where there wasnt a fight with one monster or another There was no chance for any character development they were too busy running from one sword fight to another I had no emotional attachment Scenes were blatantly stolen from other movies LOTR Star Wars and Matrix ExamplesThe ghost scene at the end was stolen from the final scene of the old Star Wars with Yoda Obee One and Vader The spider machine in the beginning was exactly like Frodo being attacked by the spider in Return of the Kings twittercom and waitit hypnotizes its victim and wraps them upuh helloAnd the whole machine vs humans theme WAS the Matrixor TerminatorThere are more examples but why waste the time And will someone tell me what was with the Nazis Nazis There was a juvenile story line rushed to a juvenile conclusion The movie could not decide if it was a childrens movie or an adult movie and wasnt much of either Just awful A real disappointment to say the least Save your money'"
            ],
            "application/vnd.google.colaboratory.intrinsic+json": {
              "type": "string"
            }
          },
          "metadata": {},
          "execution_count": 254
        }
      ]
    },
    {
      "cell_type": "code",
      "source": [
        "def text_lower(data):\n",
        "  return data.lower()\n",
        "\n",
        "def contraction_replace(data):\n",
        "  return contractions.fix(data)\n",
        "\n",
        "def number_to_text(data):\n",
        "  temp_str = data.split()\n",
        "  string = []\n",
        "  for i in temp_str:\n",
        "    if i.isdigit():\n",
        "      temp = inflect.engine().number_to_words(i)\n",
        "      string.append(temp)\n",
        "    else:\n",
        "      string.append(i)\n",
        "  temp_str = ' '.join(string)\n",
        "  return temp_str\n",
        "\n",
        "def normalization(data):\n",
        "  text = text_lower(data)\n",
        "  text = number_to_text(text)\n",
        "  text = contraction_replace(text)\n",
        "  nltk.download('punkt')\n",
        "  tokens = nltk.word_tokenize(text)\n",
        "  return tokens\n",
        "\n",
        "tokens = normalization(new_data)\n",
        "print(tokens)\n"
      ],
      "metadata": {
        "colab": {
          "base_uri": "https://localhost:8080/"
        },
        "id": "QdeM3PJdx0qv",
        "outputId": "1e7ea95d-2227-4e81-d679-c77081a8d60a"
      },
      "execution_count": null,
      "outputs": [
        {
          "output_type": "stream",
          "name": "stdout",
          "text": [
            "['this', 'movie', 'made', 'it', 'into', 'one', 'of', 'my', 'top', 'ten', 'most', 'awful', 'movies', 'horrible', 'there', 'was', 'not', 'a', 'continuous', 'minute', 'where', 'there', 'was', 'not', 'a', 'fight', 'with', 'one', 'monster', 'or', 'another', 'there', 'was', 'no', 'chance', 'for', 'any', 'character', 'development', 'they', 'were', 'too', 'busy', 'running', 'from', 'one', 'sword', 'fight', 'to', 'another', 'i', 'had', 'no', 'emotional', 'attachment', 'scenes', 'were', 'blatantly', 'stolen', 'from', 'other', 'movies', 'lotr', 'star', 'wars', 'and', 'matrix', 'examplesthe', 'ghost', 'scene', 'at', 'the', 'end', 'was', 'stolen', 'from', 'the', 'final', 'scene', 'of', 'the', 'old', 'star', 'wars', 'with', 'yoda', 'obee', 'one', 'and', 'vader', 'the', 'spider', 'machine', 'in', 'the', 'beginning', 'was', 'exactly', 'like', 'frodo', 'being', 'attacked', 'by', 'the', 'spider', 'in', 'return', 'of', 'the', 'kings', 'twittercom', 'and', 'waitit', 'hypnotizes', 'its', 'victim', 'and', 'wraps', 'them', 'upuh', 'helloand', 'the', 'whole', 'machine', 'vs', 'humans', 'theme', 'was', 'the', 'matrixor', 'terminatorthere', 'are', 'more', 'examples', 'but', 'why', 'waste', 'the', 'time', 'and', 'will', 'someone', 'tell', 'me', 'what', 'was', 'with', 'the', 'nazis', 'nazis', 'there', 'was', 'a', 'juvenile', 'story', 'line', 'rushed', 'to', 'a', 'juvenile', 'conclusion', 'the', 'movie', 'could', 'not', 'decide', 'if', 'it', 'was', 'a', 'childrens', 'movie', 'or', 'an', 'adult', 'movie', 'and', 'was', 'not', 'much', 'of', 'either', 'just', 'awful', 'a', 'real', 'disappointment', 'to', 'say', 'the', 'least', 'save', 'your', 'money']\n"
          ]
        },
        {
          "output_type": "stream",
          "name": "stderr",
          "text": [
            "[nltk_data] Downloading package punkt to /root/nltk_data...\n",
            "[nltk_data]   Package punkt is already up-to-date!\n"
          ]
        }
      ]
    },
    {
      "cell_type": "code",
      "source": [
        "def stopword(data):\n",
        "  nltk.download('stopwords')\n",
        "  clean = []\n",
        "  for i in data:\n",
        "    if i not in stopwords.words('english'):\n",
        "      clean.append(i)\n",
        "  return clean\n",
        "\n",
        "def stemming(data):\n",
        "  stemmer = LancasterStemmer()\n",
        "  stemmed = []\n",
        "  for i in data:\n",
        "    stem = stemmer.stem(i)\n",
        "    stemmed.append(stem)\n",
        "  return stemmed\n",
        "\n",
        "def lemmatization(data):\n",
        "  nltk.download('wordnet')\n",
        "  lemma = WordNetLemmatizer()\n",
        "  lemmas = []\n",
        "  for i in data:\n",
        "    lem = lemma.lemmatize(i, pos = 'v')\n",
        "    lemmas.append(lem)\n",
        "  return lemmas\n",
        "\n",
        "def final_process(data):\n",
        "  stopwords_remove = stopword(data)\n",
        "  stemmed = stemming(stopwords_remove)\n",
        "  lemm = lemmatization(stopwords_remove)\n",
        "  return stemmed, lemm\n",
        "\n",
        "stem, lemmas = final_process(tokens)"
      ],
      "metadata": {
        "colab": {
          "base_uri": "https://localhost:8080/"
        },
        "id": "0vq7ckiRx7cn",
        "outputId": "2c3b6c4a-e027-4a8f-e50c-87beb00d8de7"
      },
      "execution_count": null,
      "outputs": [
        {
          "output_type": "stream",
          "name": "stderr",
          "text": [
            "[nltk_data] Downloading package stopwords to /root/nltk_data...\n",
            "[nltk_data]   Package stopwords is already up-to-date!\n",
            "[nltk_data] Downloading package wordnet to /root/nltk_data...\n",
            "[nltk_data]   Package wordnet is already up-to-date!\n"
          ]
        }
      ]
    },
    {
      "cell_type": "code",
      "source": [
        "stem"
      ],
      "metadata": {
        "colab": {
          "base_uri": "https://localhost:8080/"
        },
        "id": "yJsqXhZAyDUt",
        "outputId": "dfaa030b-8bd4-44c9-9f52-a7793ff9b8f2"
      },
      "execution_count": null,
      "outputs": [
        {
          "output_type": "execute_result",
          "data": {
            "text/plain": [
              "['movy',\n",
              " 'mad',\n",
              " 'on',\n",
              " 'top',\n",
              " 'ten',\n",
              " 'aw',\n",
              " 'movy',\n",
              " 'horr',\n",
              " 'continu',\n",
              " 'minut',\n",
              " 'fight',\n",
              " 'on',\n",
              " 'monst',\n",
              " 'anoth',\n",
              " 'chant',\n",
              " 'charact',\n",
              " 'develop',\n",
              " 'busy',\n",
              " 'run',\n",
              " 'on',\n",
              " 'sword',\n",
              " 'fight',\n",
              " 'anoth',\n",
              " 'emot',\n",
              " 'attach',\n",
              " 'scen',\n",
              " 'blat',\n",
              " 'stol',\n",
              " 'movy',\n",
              " 'lot',\n",
              " 'star',\n",
              " 'war',\n",
              " 'matrix',\n",
              " 'examplesth',\n",
              " 'ghost',\n",
              " 'scen',\n",
              " 'end',\n",
              " 'stol',\n",
              " 'fin',\n",
              " 'scen',\n",
              " 'old',\n",
              " 'star',\n",
              " 'war',\n",
              " 'yod',\n",
              " 'ob',\n",
              " 'on',\n",
              " 'vad',\n",
              " 'spid',\n",
              " 'machin',\n",
              " 'begin',\n",
              " 'exact',\n",
              " 'lik',\n",
              " 'frodo',\n",
              " 'attack',\n",
              " 'spid',\n",
              " 'return',\n",
              " 'king',\n",
              " 'twittercom',\n",
              " 'waitit',\n",
              " 'hypnot',\n",
              " 'victim',\n",
              " 'wrap',\n",
              " 'upuh',\n",
              " 'helloand',\n",
              " 'whol',\n",
              " 'machin',\n",
              " 'vs',\n",
              " 'hum',\n",
              " 'them',\n",
              " 'matrix',\n",
              " 'terminatorth',\n",
              " 'exampl',\n",
              " 'wast',\n",
              " 'tim',\n",
              " 'someon',\n",
              " 'tel',\n",
              " 'naz',\n",
              " 'naz',\n",
              " 'juvenil',\n",
              " 'story',\n",
              " 'lin',\n",
              " 'rush',\n",
              " 'juvenil',\n",
              " 'conclud',\n",
              " 'movy',\n",
              " 'could',\n",
              " 'decid',\n",
              " 'childr',\n",
              " 'movy',\n",
              " 'adult',\n",
              " 'movy',\n",
              " 'much',\n",
              " 'eith',\n",
              " 'aw',\n",
              " 'real',\n",
              " 'disappoint',\n",
              " 'say',\n",
              " 'least',\n",
              " 'sav',\n",
              " 'money']"
            ]
          },
          "metadata": {},
          "execution_count": 257
        }
      ]
    },
    {
      "cell_type": "code",
      "source": [
        "lemmas"
      ],
      "metadata": {
        "colab": {
          "base_uri": "https://localhost:8080/"
        },
        "id": "XEiFO6J-yFWr",
        "outputId": "3cf523e5-d778-4f5d-a8da-0e504653c66a"
      },
      "execution_count": null,
      "outputs": [
        {
          "output_type": "execute_result",
          "data": {
            "text/plain": [
              "['movie',\n",
              " 'make',\n",
              " 'one',\n",
              " 'top',\n",
              " 'ten',\n",
              " 'awful',\n",
              " 'movies',\n",
              " 'horrible',\n",
              " 'continuous',\n",
              " 'minute',\n",
              " 'fight',\n",
              " 'one',\n",
              " 'monster',\n",
              " 'another',\n",
              " 'chance',\n",
              " 'character',\n",
              " 'development',\n",
              " 'busy',\n",
              " 'run',\n",
              " 'one',\n",
              " 'sword',\n",
              " 'fight',\n",
              " 'another',\n",
              " 'emotional',\n",
              " 'attachment',\n",
              " 'scenes',\n",
              " 'blatantly',\n",
              " 'steal',\n",
              " 'movies',\n",
              " 'lotr',\n",
              " 'star',\n",
              " 'war',\n",
              " 'matrix',\n",
              " 'examplesthe',\n",
              " 'ghost',\n",
              " 'scene',\n",
              " 'end',\n",
              " 'steal',\n",
              " 'final',\n",
              " 'scene',\n",
              " 'old',\n",
              " 'star',\n",
              " 'war',\n",
              " 'yoda',\n",
              " 'obee',\n",
              " 'one',\n",
              " 'vader',\n",
              " 'spider',\n",
              " 'machine',\n",
              " 'begin',\n",
              " 'exactly',\n",
              " 'like',\n",
              " 'frodo',\n",
              " 'attack',\n",
              " 'spider',\n",
              " 'return',\n",
              " 'kings',\n",
              " 'twittercom',\n",
              " 'waitit',\n",
              " 'hypnotize',\n",
              " 'victim',\n",
              " 'wrap',\n",
              " 'upuh',\n",
              " 'helloand',\n",
              " 'whole',\n",
              " 'machine',\n",
              " 'vs',\n",
              " 'humans',\n",
              " 'theme',\n",
              " 'matrixor',\n",
              " 'terminatorthere',\n",
              " 'examples',\n",
              " 'waste',\n",
              " 'time',\n",
              " 'someone',\n",
              " 'tell',\n",
              " 'nazis',\n",
              " 'nazis',\n",
              " 'juvenile',\n",
              " 'story',\n",
              " 'line',\n",
              " 'rush',\n",
              " 'juvenile',\n",
              " 'conclusion',\n",
              " 'movie',\n",
              " 'could',\n",
              " 'decide',\n",
              " 'childrens',\n",
              " 'movie',\n",
              " 'adult',\n",
              " 'movie',\n",
              " 'much',\n",
              " 'either',\n",
              " 'awful',\n",
              " 'real',\n",
              " 'disappointment',\n",
              " 'say',\n",
              " 'least',\n",
              " 'save',\n",
              " 'money']"
            ]
          },
          "metadata": {},
          "execution_count": 258
        }
      ]
    },
    {
      "cell_type": "markdown",
      "source": [
        "# **Text classification in a dataset**"
      ],
      "metadata": {
        "id": "fv6cWihy3P6R"
      }
    },
    {
      "cell_type": "markdown",
      "source": [
        "\n",
        "\n",
        "1.   Load and explore dataset\n",
        "\n"
      ],
      "metadata": {
        "id": "GnFXSV_i4FEu"
      }
    },
    {
      "cell_type": "code",
      "source": [
        "import warnings\n",
        "warnings.filterwarnings('ignore')\n",
        "import re, string\n",
        "import numpy as np\n",
        "import pandas as pd\n",
        "import matplotlib as mpl\n",
        "import matplotlib.cm as cm\n",
        "import matplotlib.pyplot as plt\n",
        "from sklearn.feature_extraction import _stop_words\n",
        "from sklearn.feature_extraction.text import CountVectorizer\n",
        "from sklearn.model_selection import train_test_split\n",
        "from sklearn.svm import LinearSVC\n",
        "from sklearn.naive_bayes import MultinomialNB\n",
        "from sklearn.linear_model import LogisticRegression\n",
        "from sklearn import metrics\n",
        "from sklearn.metrics import confusion_matrix, accuracy_score\n",
        "\n",
        "# To track the training duration\n",
        "import itertools\n",
        "from time import time"
      ],
      "metadata": {
        "id": "41Wejz2RQirw"
      },
      "execution_count": null,
      "outputs": []
    },
    {
      "cell_type": "code",
      "source": [
        "### We can use this code to find out certain encodings\n",
        "\n",
        "# import chardet\n",
        "\n",
        "# raw_data = open('/content/US-Economic-News.csv', 'rb').read()\n",
        "# result = chardet.detect(raw_data)\n",
        "# char_enc = result['encoding']\n",
        "# print(char_enc)"
      ],
      "metadata": {
        "id": "JqdZ-PT6yIsb"
      },
      "execution_count": null,
      "outputs": []
    },
    {
      "cell_type": "code",
      "source": [
        "data2 = pd.read_csv('/content/US-Economic-News.csv', encoding = 'MacRoman')\n",
        "data2.head()\n"
      ],
      "metadata": {
        "colab": {
          "base_uri": "https://localhost:8080/",
          "height": 573
        },
        "id": "BSOyLV75y0kG",
        "outputId": "397369dd-209f-4f2f-f9f9-165ffed8bfb5"
      },
      "execution_count": null,
      "outputs": [
        {
          "output_type": "execute_result",
          "data": {
            "text/plain": [
              "    _unit_id  _golden _unit_state  _trusted_judgments _last_judgment_at  \\\n",
              "0  842613455    False   finalized                   3     12/5/15 17:48   \n",
              "1  842613456    False   finalized                   3     12/5/15 16:54   \n",
              "2  842613457    False   finalized                   3      12/5/15 1:59   \n",
              "3  842613458    False   finalized                   3      12/5/15 2:19   \n",
              "4  842613459    False   finalized                   3     12/5/15 17:48   \n",
              "\n",
              "   positivity  positivity:confidence relevance  relevance:confidence  \\\n",
              "0         3.0                 0.6400       yes                 0.640   \n",
              "1         NaN                    NaN        no                 1.000   \n",
              "2         NaN                    NaN        no                 1.000   \n",
              "3         NaN                 0.0000        no                 0.675   \n",
              "4         3.0                 0.3257       yes                 0.640   \n",
              "\n",
              "       articleid      date                                           headline  \\\n",
              "0  wsj_398217788   8/14/91              Yields on CDs Fell in the Latest Week   \n",
              "1  wsj_399019502   8/21/07  The Morning Brief: White House Seeks to Limit ...   \n",
              "2  wsj_398284048  11/14/91  Banking Bill Negotiators Set Compromise --- Pl...   \n",
              "3  wsj_397959018   6/16/86  Manager's Journal: Sniffing Out Drug Abusers I...   \n",
              "4  wsj_398838054   10/4/02  Currency Trading: Dollar Remains in Tight Rang...   \n",
              "\n",
              "   positivity_gold  relevance_gold  \\\n",
              "0              NaN             NaN   \n",
              "1              NaN             NaN   \n",
              "2              NaN             NaN   \n",
              "3              NaN             NaN   \n",
              "4              NaN             NaN   \n",
              "\n",
              "                                                text  \n",
              "0  NEW YORK -- Yields on most certificates of dep...  \n",
              "1  The Wall Street Journal Online</br></br>The Mo...  \n",
              "2  WASHINGTON -- In an effort to achieve banking ...  \n",
              "3  The statistics on the enormous costs of employ...  \n",
              "4  NEW YORK -- Indecision marked the dollar's ton...  "
            ],
            "text/html": [
              "\n",
              "  <div id=\"df-27646e2e-c5d7-4b9d-8f80-f2a89afc3016\" class=\"colab-df-container\">\n",
              "    <div>\n",
              "<style scoped>\n",
              "    .dataframe tbody tr th:only-of-type {\n",
              "        vertical-align: middle;\n",
              "    }\n",
              "\n",
              "    .dataframe tbody tr th {\n",
              "        vertical-align: top;\n",
              "    }\n",
              "\n",
              "    .dataframe thead th {\n",
              "        text-align: right;\n",
              "    }\n",
              "</style>\n",
              "<table border=\"1\" class=\"dataframe\">\n",
              "  <thead>\n",
              "    <tr style=\"text-align: right;\">\n",
              "      <th></th>\n",
              "      <th>_unit_id</th>\n",
              "      <th>_golden</th>\n",
              "      <th>_unit_state</th>\n",
              "      <th>_trusted_judgments</th>\n",
              "      <th>_last_judgment_at</th>\n",
              "      <th>positivity</th>\n",
              "      <th>positivity:confidence</th>\n",
              "      <th>relevance</th>\n",
              "      <th>relevance:confidence</th>\n",
              "      <th>articleid</th>\n",
              "      <th>date</th>\n",
              "      <th>headline</th>\n",
              "      <th>positivity_gold</th>\n",
              "      <th>relevance_gold</th>\n",
              "      <th>text</th>\n",
              "    </tr>\n",
              "  </thead>\n",
              "  <tbody>\n",
              "    <tr>\n",
              "      <th>0</th>\n",
              "      <td>842613455</td>\n",
              "      <td>False</td>\n",
              "      <td>finalized</td>\n",
              "      <td>3</td>\n",
              "      <td>12/5/15 17:48</td>\n",
              "      <td>3.0</td>\n",
              "      <td>0.6400</td>\n",
              "      <td>yes</td>\n",
              "      <td>0.640</td>\n",
              "      <td>wsj_398217788</td>\n",
              "      <td>8/14/91</td>\n",
              "      <td>Yields on CDs Fell in the Latest Week</td>\n",
              "      <td>NaN</td>\n",
              "      <td>NaN</td>\n",
              "      <td>NEW YORK -- Yields on most certificates of dep...</td>\n",
              "    </tr>\n",
              "    <tr>\n",
              "      <th>1</th>\n",
              "      <td>842613456</td>\n",
              "      <td>False</td>\n",
              "      <td>finalized</td>\n",
              "      <td>3</td>\n",
              "      <td>12/5/15 16:54</td>\n",
              "      <td>NaN</td>\n",
              "      <td>NaN</td>\n",
              "      <td>no</td>\n",
              "      <td>1.000</td>\n",
              "      <td>wsj_399019502</td>\n",
              "      <td>8/21/07</td>\n",
              "      <td>The Morning Brief: White House Seeks to Limit ...</td>\n",
              "      <td>NaN</td>\n",
              "      <td>NaN</td>\n",
              "      <td>The Wall Street Journal Online&lt;/br&gt;&lt;/br&gt;The Mo...</td>\n",
              "    </tr>\n",
              "    <tr>\n",
              "      <th>2</th>\n",
              "      <td>842613457</td>\n",
              "      <td>False</td>\n",
              "      <td>finalized</td>\n",
              "      <td>3</td>\n",
              "      <td>12/5/15 1:59</td>\n",
              "      <td>NaN</td>\n",
              "      <td>NaN</td>\n",
              "      <td>no</td>\n",
              "      <td>1.000</td>\n",
              "      <td>wsj_398284048</td>\n",
              "      <td>11/14/91</td>\n",
              "      <td>Banking Bill Negotiators Set Compromise --- Pl...</td>\n",
              "      <td>NaN</td>\n",
              "      <td>NaN</td>\n",
              "      <td>WASHINGTON -- In an effort to achieve banking ...</td>\n",
              "    </tr>\n",
              "    <tr>\n",
              "      <th>3</th>\n",
              "      <td>842613458</td>\n",
              "      <td>False</td>\n",
              "      <td>finalized</td>\n",
              "      <td>3</td>\n",
              "      <td>12/5/15 2:19</td>\n",
              "      <td>NaN</td>\n",
              "      <td>0.0000</td>\n",
              "      <td>no</td>\n",
              "      <td>0.675</td>\n",
              "      <td>wsj_397959018</td>\n",
              "      <td>6/16/86</td>\n",
              "      <td>Manager's Journal: Sniffing Out Drug Abusers I...</td>\n",
              "      <td>NaN</td>\n",
              "      <td>NaN</td>\n",
              "      <td>The statistics on the enormous costs of employ...</td>\n",
              "    </tr>\n",
              "    <tr>\n",
              "      <th>4</th>\n",
              "      <td>842613459</td>\n",
              "      <td>False</td>\n",
              "      <td>finalized</td>\n",
              "      <td>3</td>\n",
              "      <td>12/5/15 17:48</td>\n",
              "      <td>3.0</td>\n",
              "      <td>0.3257</td>\n",
              "      <td>yes</td>\n",
              "      <td>0.640</td>\n",
              "      <td>wsj_398838054</td>\n",
              "      <td>10/4/02</td>\n",
              "      <td>Currency Trading: Dollar Remains in Tight Rang...</td>\n",
              "      <td>NaN</td>\n",
              "      <td>NaN</td>\n",
              "      <td>NEW YORK -- Indecision marked the dollar's ton...</td>\n",
              "    </tr>\n",
              "  </tbody>\n",
              "</table>\n",
              "</div>\n",
              "    <div class=\"colab-df-buttons\">\n",
              "\n",
              "  <div class=\"colab-df-container\">\n",
              "    <button class=\"colab-df-convert\" onclick=\"convertToInteractive('df-27646e2e-c5d7-4b9d-8f80-f2a89afc3016')\"\n",
              "            title=\"Convert this dataframe to an interactive table.\"\n",
              "            style=\"display:none;\">\n",
              "\n",
              "  <svg xmlns=\"http://www.w3.org/2000/svg\" height=\"24px\" viewBox=\"0 -960 960 960\">\n",
              "    <path d=\"M120-120v-720h720v720H120Zm60-500h600v-160H180v160Zm220 220h160v-160H400v160Zm0 220h160v-160H400v160ZM180-400h160v-160H180v160Zm440 0h160v-160H620v160ZM180-180h160v-160H180v160Zm440 0h160v-160H620v160Z\"/>\n",
              "  </svg>\n",
              "    </button>\n",
              "\n",
              "  <style>\n",
              "    .colab-df-container {\n",
              "      display:flex;\n",
              "      gap: 12px;\n",
              "    }\n",
              "\n",
              "    .colab-df-convert {\n",
              "      background-color: #E8F0FE;\n",
              "      border: none;\n",
              "      border-radius: 50%;\n",
              "      cursor: pointer;\n",
              "      display: none;\n",
              "      fill: #1967D2;\n",
              "      height: 32px;\n",
              "      padding: 0 0 0 0;\n",
              "      width: 32px;\n",
              "    }\n",
              "\n",
              "    .colab-df-convert:hover {\n",
              "      background-color: #E2EBFA;\n",
              "      box-shadow: 0px 1px 2px rgba(60, 64, 67, 0.3), 0px 1px 3px 1px rgba(60, 64, 67, 0.15);\n",
              "      fill: #174EA6;\n",
              "    }\n",
              "\n",
              "    .colab-df-buttons div {\n",
              "      margin-bottom: 4px;\n",
              "    }\n",
              "\n",
              "    [theme=dark] .colab-df-convert {\n",
              "      background-color: #3B4455;\n",
              "      fill: #D2E3FC;\n",
              "    }\n",
              "\n",
              "    [theme=dark] .colab-df-convert:hover {\n",
              "      background-color: #434B5C;\n",
              "      box-shadow: 0px 1px 3px 1px rgba(0, 0, 0, 0.15);\n",
              "      filter: drop-shadow(0px 1px 2px rgba(0, 0, 0, 0.3));\n",
              "      fill: #FFFFFF;\n",
              "    }\n",
              "  </style>\n",
              "\n",
              "    <script>\n",
              "      const buttonEl =\n",
              "        document.querySelector('#df-27646e2e-c5d7-4b9d-8f80-f2a89afc3016 button.colab-df-convert');\n",
              "      buttonEl.style.display =\n",
              "        google.colab.kernel.accessAllowed ? 'block' : 'none';\n",
              "\n",
              "      async function convertToInteractive(key) {\n",
              "        const element = document.querySelector('#df-27646e2e-c5d7-4b9d-8f80-f2a89afc3016');\n",
              "        const dataTable =\n",
              "          await google.colab.kernel.invokeFunction('convertToInteractive',\n",
              "                                                    [key], {});\n",
              "        if (!dataTable) return;\n",
              "\n",
              "        const docLinkHtml = 'Like what you see? Visit the ' +\n",
              "          '<a target=\"_blank\" href=https://colab.research.google.com/notebooks/data_table.ipynb>data table notebook</a>'\n",
              "          + ' to learn more about interactive tables.';\n",
              "        element.innerHTML = '';\n",
              "        dataTable['output_type'] = 'display_data';\n",
              "        await google.colab.output.renderOutput(dataTable, element);\n",
              "        const docLink = document.createElement('div');\n",
              "        docLink.innerHTML = docLinkHtml;\n",
              "        element.appendChild(docLink);\n",
              "      }\n",
              "    </script>\n",
              "  </div>\n",
              "\n",
              "\n",
              "<div id=\"df-d5ac4deb-3fbb-431a-a14d-559e019e0b6d\">\n",
              "  <button class=\"colab-df-quickchart\" onclick=\"quickchart('df-d5ac4deb-3fbb-431a-a14d-559e019e0b6d')\"\n",
              "            title=\"Suggest charts\"\n",
              "            style=\"display:none;\">\n",
              "\n",
              "<svg xmlns=\"http://www.w3.org/2000/svg\" height=\"24px\"viewBox=\"0 0 24 24\"\n",
              "     width=\"24px\">\n",
              "    <g>\n",
              "        <path d=\"M19 3H5c-1.1 0-2 .9-2 2v14c0 1.1.9 2 2 2h14c1.1 0 2-.9 2-2V5c0-1.1-.9-2-2-2zM9 17H7v-7h2v7zm4 0h-2V7h2v10zm4 0h-2v-4h2v4z\"/>\n",
              "    </g>\n",
              "</svg>\n",
              "  </button>\n",
              "\n",
              "<style>\n",
              "  .colab-df-quickchart {\n",
              "      --bg-color: #E8F0FE;\n",
              "      --fill-color: #1967D2;\n",
              "      --hover-bg-color: #E2EBFA;\n",
              "      --hover-fill-color: #174EA6;\n",
              "      --disabled-fill-color: #AAA;\n",
              "      --disabled-bg-color: #DDD;\n",
              "  }\n",
              "\n",
              "  [theme=dark] .colab-df-quickchart {\n",
              "      --bg-color: #3B4455;\n",
              "      --fill-color: #D2E3FC;\n",
              "      --hover-bg-color: #434B5C;\n",
              "      --hover-fill-color: #FFFFFF;\n",
              "      --disabled-bg-color: #3B4455;\n",
              "      --disabled-fill-color: #666;\n",
              "  }\n",
              "\n",
              "  .colab-df-quickchart {\n",
              "    background-color: var(--bg-color);\n",
              "    border: none;\n",
              "    border-radius: 50%;\n",
              "    cursor: pointer;\n",
              "    display: none;\n",
              "    fill: var(--fill-color);\n",
              "    height: 32px;\n",
              "    padding: 0;\n",
              "    width: 32px;\n",
              "  }\n",
              "\n",
              "  .colab-df-quickchart:hover {\n",
              "    background-color: var(--hover-bg-color);\n",
              "    box-shadow: 0 1px 2px rgba(60, 64, 67, 0.3), 0 1px 3px 1px rgba(60, 64, 67, 0.15);\n",
              "    fill: var(--button-hover-fill-color);\n",
              "  }\n",
              "\n",
              "  .colab-df-quickchart-complete:disabled,\n",
              "  .colab-df-quickchart-complete:disabled:hover {\n",
              "    background-color: var(--disabled-bg-color);\n",
              "    fill: var(--disabled-fill-color);\n",
              "    box-shadow: none;\n",
              "  }\n",
              "\n",
              "  .colab-df-spinner {\n",
              "    border: 2px solid var(--fill-color);\n",
              "    border-color: transparent;\n",
              "    border-bottom-color: var(--fill-color);\n",
              "    animation:\n",
              "      spin 1s steps(1) infinite;\n",
              "  }\n",
              "\n",
              "  @keyframes spin {\n",
              "    0% {\n",
              "      border-color: transparent;\n",
              "      border-bottom-color: var(--fill-color);\n",
              "      border-left-color: var(--fill-color);\n",
              "    }\n",
              "    20% {\n",
              "      border-color: transparent;\n",
              "      border-left-color: var(--fill-color);\n",
              "      border-top-color: var(--fill-color);\n",
              "    }\n",
              "    30% {\n",
              "      border-color: transparent;\n",
              "      border-left-color: var(--fill-color);\n",
              "      border-top-color: var(--fill-color);\n",
              "      border-right-color: var(--fill-color);\n",
              "    }\n",
              "    40% {\n",
              "      border-color: transparent;\n",
              "      border-right-color: var(--fill-color);\n",
              "      border-top-color: var(--fill-color);\n",
              "    }\n",
              "    60% {\n",
              "      border-color: transparent;\n",
              "      border-right-color: var(--fill-color);\n",
              "    }\n",
              "    80% {\n",
              "      border-color: transparent;\n",
              "      border-right-color: var(--fill-color);\n",
              "      border-bottom-color: var(--fill-color);\n",
              "    }\n",
              "    90% {\n",
              "      border-color: transparent;\n",
              "      border-bottom-color: var(--fill-color);\n",
              "    }\n",
              "  }\n",
              "</style>\n",
              "\n",
              "  <script>\n",
              "    async function quickchart(key) {\n",
              "      const quickchartButtonEl =\n",
              "        document.querySelector('#' + key + ' button');\n",
              "      quickchartButtonEl.disabled = true;  // To prevent multiple clicks.\n",
              "      quickchartButtonEl.classList.add('colab-df-spinner');\n",
              "      try {\n",
              "        const charts = await google.colab.kernel.invokeFunction(\n",
              "            'suggestCharts', [key], {});\n",
              "      } catch (error) {\n",
              "        console.error('Error during call to suggestCharts:', error);\n",
              "      }\n",
              "      quickchartButtonEl.classList.remove('colab-df-spinner');\n",
              "      quickchartButtonEl.classList.add('colab-df-quickchart-complete');\n",
              "    }\n",
              "    (() => {\n",
              "      let quickchartButtonEl =\n",
              "        document.querySelector('#df-d5ac4deb-3fbb-431a-a14d-559e019e0b6d button');\n",
              "      quickchartButtonEl.style.display =\n",
              "        google.colab.kernel.accessAllowed ? 'block' : 'none';\n",
              "    })();\n",
              "  </script>\n",
              "</div>\n",
              "    </div>\n",
              "  </div>\n"
            ]
          },
          "metadata": {},
          "execution_count": 261
        }
      ]
    },
    {
      "cell_type": "code",
      "source": [
        "data2.shape"
      ],
      "metadata": {
        "colab": {
          "base_uri": "https://localhost:8080/"
        },
        "id": "EhrlRG-A0g4N",
        "outputId": "ba2db47a-c9dc-44d8-c4fa-c53f6a7e2601"
      },
      "execution_count": null,
      "outputs": [
        {
          "output_type": "execute_result",
          "data": {
            "text/plain": [
              "(8000, 15)"
            ]
          },
          "metadata": {},
          "execution_count": 262
        }
      ]
    },
    {
      "cell_type": "code",
      "source": [
        "data2['relevance'].value_counts()"
      ],
      "metadata": {
        "colab": {
          "base_uri": "https://localhost:8080/"
        },
        "id": "L_4-I4C61YtC",
        "outputId": "9d935f73-1e04-4663-bc4a-30c99acd1300"
      },
      "execution_count": null,
      "outputs": [
        {
          "output_type": "execute_result",
          "data": {
            "text/plain": [
              "no          6571\n",
              "yes         1420\n",
              "not sure       9\n",
              "Name: relevance, dtype: int64"
            ]
          },
          "metadata": {},
          "execution_count": 263
        }
      ]
    },
    {
      "cell_type": "markdown",
      "source": [
        "\n",
        "\n",
        "*   There is an imbalance in the data with not relevant being 82% in the dataset. That is, most of the articles are not relevant to US Economy, which makes sense in a real-world scenario, as news articles discuss various topics. We should keep this class imbalance mind when interpreting the classifier performance later.\n",
        "*   First, it would be useful to convert the class labels into binary outcome variables, for convenience. 1 for Yes (relevant), 0 for No (not relevant), and ignore \"Not sure\".\n",
        "\n"
      ],
      "metadata": {
        "id": "4OPHZ4xO1-dj"
      }
    },
    {
      "cell_type": "code",
      "source": [
        "data2 = data2[data2.relevance != \"not sure\"]\n",
        "data2.shape\n"
      ],
      "metadata": {
        "colab": {
          "base_uri": "https://localhost:8080/"
        },
        "id": "5ICPUyB01j24",
        "outputId": "00d6fa16-7df9-48a5-df86-9ec397a248d6"
      },
      "execution_count": null,
      "outputs": [
        {
          "output_type": "execute_result",
          "data": {
            "text/plain": [
              "(7991, 15)"
            ]
          },
          "metadata": {},
          "execution_count": 264
        }
      ]
    },
    {
      "cell_type": "code",
      "source": [
        "data2['relevance'].value_counts()"
      ],
      "metadata": {
        "colab": {
          "base_uri": "https://localhost:8080/"
        },
        "id": "VU0g5RPw2lcQ",
        "outputId": "bc33d315-85eb-4ba5-dca0-b3f8d1303db1"
      },
      "execution_count": null,
      "outputs": [
        {
          "output_type": "execute_result",
          "data": {
            "text/plain": [
              "no     6571\n",
              "yes    1420\n",
              "Name: relevance, dtype: int64"
            ]
          },
          "metadata": {},
          "execution_count": 265
        }
      ]
    },
    {
      "cell_type": "code",
      "source": [
        "data2['relevance'] = data2['relevance'].map({'yes':1, 'no':0})"
      ],
      "metadata": {
        "id": "rREKDZxW2sVq"
      },
      "execution_count": null,
      "outputs": []
    },
    {
      "cell_type": "code",
      "source": [
        "# Let's take only two columns\n",
        "\n",
        "data2 = data2[['text', 'relevance']]\n",
        "data2.shape"
      ],
      "metadata": {
        "colab": {
          "base_uri": "https://localhost:8080/"
        },
        "id": "OR4Nz6N_236i",
        "outputId": "423884c8-92c8-4920-c44a-8ce9e35ed80f"
      },
      "execution_count": null,
      "outputs": [
        {
          "output_type": "execute_result",
          "data": {
            "text/plain": [
              "(7991, 2)"
            ]
          },
          "metadata": {},
          "execution_count": 267
        }
      ]
    },
    {
      "cell_type": "code",
      "source": [
        "data2.head()"
      ],
      "metadata": {
        "colab": {
          "base_uri": "https://localhost:8080/",
          "height": 206
        },
        "id": "VRC4YoFv3E8K",
        "outputId": "40142e27-a81c-4ec0-853a-00631c8c1331"
      },
      "execution_count": null,
      "outputs": [
        {
          "output_type": "execute_result",
          "data": {
            "text/plain": [
              "                                                text  relevance\n",
              "0  NEW YORK -- Yields on most certificates of dep...          1\n",
              "1  The Wall Street Journal Online</br></br>The Mo...          0\n",
              "2  WASHINGTON -- In an effort to achieve banking ...          0\n",
              "3  The statistics on the enormous costs of employ...          0\n",
              "4  NEW YORK -- Indecision marked the dollar's ton...          1"
            ],
            "text/html": [
              "\n",
              "  <div id=\"df-04840018-2a7b-441b-91ea-d8e5a8dfb39c\" class=\"colab-df-container\">\n",
              "    <div>\n",
              "<style scoped>\n",
              "    .dataframe tbody tr th:only-of-type {\n",
              "        vertical-align: middle;\n",
              "    }\n",
              "\n",
              "    .dataframe tbody tr th {\n",
              "        vertical-align: top;\n",
              "    }\n",
              "\n",
              "    .dataframe thead th {\n",
              "        text-align: right;\n",
              "    }\n",
              "</style>\n",
              "<table border=\"1\" class=\"dataframe\">\n",
              "  <thead>\n",
              "    <tr style=\"text-align: right;\">\n",
              "      <th></th>\n",
              "      <th>text</th>\n",
              "      <th>relevance</th>\n",
              "    </tr>\n",
              "  </thead>\n",
              "  <tbody>\n",
              "    <tr>\n",
              "      <th>0</th>\n",
              "      <td>NEW YORK -- Yields on most certificates of dep...</td>\n",
              "      <td>1</td>\n",
              "    </tr>\n",
              "    <tr>\n",
              "      <th>1</th>\n",
              "      <td>The Wall Street Journal Online&lt;/br&gt;&lt;/br&gt;The Mo...</td>\n",
              "      <td>0</td>\n",
              "    </tr>\n",
              "    <tr>\n",
              "      <th>2</th>\n",
              "      <td>WASHINGTON -- In an effort to achieve banking ...</td>\n",
              "      <td>0</td>\n",
              "    </tr>\n",
              "    <tr>\n",
              "      <th>3</th>\n",
              "      <td>The statistics on the enormous costs of employ...</td>\n",
              "      <td>0</td>\n",
              "    </tr>\n",
              "    <tr>\n",
              "      <th>4</th>\n",
              "      <td>NEW YORK -- Indecision marked the dollar's ton...</td>\n",
              "      <td>1</td>\n",
              "    </tr>\n",
              "  </tbody>\n",
              "</table>\n",
              "</div>\n",
              "    <div class=\"colab-df-buttons\">\n",
              "\n",
              "  <div class=\"colab-df-container\">\n",
              "    <button class=\"colab-df-convert\" onclick=\"convertToInteractive('df-04840018-2a7b-441b-91ea-d8e5a8dfb39c')\"\n",
              "            title=\"Convert this dataframe to an interactive table.\"\n",
              "            style=\"display:none;\">\n",
              "\n",
              "  <svg xmlns=\"http://www.w3.org/2000/svg\" height=\"24px\" viewBox=\"0 -960 960 960\">\n",
              "    <path d=\"M120-120v-720h720v720H120Zm60-500h600v-160H180v160Zm220 220h160v-160H400v160Zm0 220h160v-160H400v160ZM180-400h160v-160H180v160Zm440 0h160v-160H620v160ZM180-180h160v-160H180v160Zm440 0h160v-160H620v160Z\"/>\n",
              "  </svg>\n",
              "    </button>\n",
              "\n",
              "  <style>\n",
              "    .colab-df-container {\n",
              "      display:flex;\n",
              "      gap: 12px;\n",
              "    }\n",
              "\n",
              "    .colab-df-convert {\n",
              "      background-color: #E8F0FE;\n",
              "      border: none;\n",
              "      border-radius: 50%;\n",
              "      cursor: pointer;\n",
              "      display: none;\n",
              "      fill: #1967D2;\n",
              "      height: 32px;\n",
              "      padding: 0 0 0 0;\n",
              "      width: 32px;\n",
              "    }\n",
              "\n",
              "    .colab-df-convert:hover {\n",
              "      background-color: #E2EBFA;\n",
              "      box-shadow: 0px 1px 2px rgba(60, 64, 67, 0.3), 0px 1px 3px 1px rgba(60, 64, 67, 0.15);\n",
              "      fill: #174EA6;\n",
              "    }\n",
              "\n",
              "    .colab-df-buttons div {\n",
              "      margin-bottom: 4px;\n",
              "    }\n",
              "\n",
              "    [theme=dark] .colab-df-convert {\n",
              "      background-color: #3B4455;\n",
              "      fill: #D2E3FC;\n",
              "    }\n",
              "\n",
              "    [theme=dark] .colab-df-convert:hover {\n",
              "      background-color: #434B5C;\n",
              "      box-shadow: 0px 1px 3px 1px rgba(0, 0, 0, 0.15);\n",
              "      filter: drop-shadow(0px 1px 2px rgba(0, 0, 0, 0.3));\n",
              "      fill: #FFFFFF;\n",
              "    }\n",
              "  </style>\n",
              "\n",
              "    <script>\n",
              "      const buttonEl =\n",
              "        document.querySelector('#df-04840018-2a7b-441b-91ea-d8e5a8dfb39c button.colab-df-convert');\n",
              "      buttonEl.style.display =\n",
              "        google.colab.kernel.accessAllowed ? 'block' : 'none';\n",
              "\n",
              "      async function convertToInteractive(key) {\n",
              "        const element = document.querySelector('#df-04840018-2a7b-441b-91ea-d8e5a8dfb39c');\n",
              "        const dataTable =\n",
              "          await google.colab.kernel.invokeFunction('convertToInteractive',\n",
              "                                                    [key], {});\n",
              "        if (!dataTable) return;\n",
              "\n",
              "        const docLinkHtml = 'Like what you see? Visit the ' +\n",
              "          '<a target=\"_blank\" href=https://colab.research.google.com/notebooks/data_table.ipynb>data table notebook</a>'\n",
              "          + ' to learn more about interactive tables.';\n",
              "        element.innerHTML = '';\n",
              "        dataTable['output_type'] = 'display_data';\n",
              "        await google.colab.output.renderOutput(dataTable, element);\n",
              "        const docLink = document.createElement('div');\n",
              "        docLink.innerHTML = docLinkHtml;\n",
              "        element.appendChild(docLink);\n",
              "      }\n",
              "    </script>\n",
              "  </div>\n",
              "\n",
              "\n",
              "<div id=\"df-5b6cc3ba-66bb-4467-a4d9-babddcdeea61\">\n",
              "  <button class=\"colab-df-quickchart\" onclick=\"quickchart('df-5b6cc3ba-66bb-4467-a4d9-babddcdeea61')\"\n",
              "            title=\"Suggest charts\"\n",
              "            style=\"display:none;\">\n",
              "\n",
              "<svg xmlns=\"http://www.w3.org/2000/svg\" height=\"24px\"viewBox=\"0 0 24 24\"\n",
              "     width=\"24px\">\n",
              "    <g>\n",
              "        <path d=\"M19 3H5c-1.1 0-2 .9-2 2v14c0 1.1.9 2 2 2h14c1.1 0 2-.9 2-2V5c0-1.1-.9-2-2-2zM9 17H7v-7h2v7zm4 0h-2V7h2v10zm4 0h-2v-4h2v4z\"/>\n",
              "    </g>\n",
              "</svg>\n",
              "  </button>\n",
              "\n",
              "<style>\n",
              "  .colab-df-quickchart {\n",
              "      --bg-color: #E8F0FE;\n",
              "      --fill-color: #1967D2;\n",
              "      --hover-bg-color: #E2EBFA;\n",
              "      --hover-fill-color: #174EA6;\n",
              "      --disabled-fill-color: #AAA;\n",
              "      --disabled-bg-color: #DDD;\n",
              "  }\n",
              "\n",
              "  [theme=dark] .colab-df-quickchart {\n",
              "      --bg-color: #3B4455;\n",
              "      --fill-color: #D2E3FC;\n",
              "      --hover-bg-color: #434B5C;\n",
              "      --hover-fill-color: #FFFFFF;\n",
              "      --disabled-bg-color: #3B4455;\n",
              "      --disabled-fill-color: #666;\n",
              "  }\n",
              "\n",
              "  .colab-df-quickchart {\n",
              "    background-color: var(--bg-color);\n",
              "    border: none;\n",
              "    border-radius: 50%;\n",
              "    cursor: pointer;\n",
              "    display: none;\n",
              "    fill: var(--fill-color);\n",
              "    height: 32px;\n",
              "    padding: 0;\n",
              "    width: 32px;\n",
              "  }\n",
              "\n",
              "  .colab-df-quickchart:hover {\n",
              "    background-color: var(--hover-bg-color);\n",
              "    box-shadow: 0 1px 2px rgba(60, 64, 67, 0.3), 0 1px 3px 1px rgba(60, 64, 67, 0.15);\n",
              "    fill: var(--button-hover-fill-color);\n",
              "  }\n",
              "\n",
              "  .colab-df-quickchart-complete:disabled,\n",
              "  .colab-df-quickchart-complete:disabled:hover {\n",
              "    background-color: var(--disabled-bg-color);\n",
              "    fill: var(--disabled-fill-color);\n",
              "    box-shadow: none;\n",
              "  }\n",
              "\n",
              "  .colab-df-spinner {\n",
              "    border: 2px solid var(--fill-color);\n",
              "    border-color: transparent;\n",
              "    border-bottom-color: var(--fill-color);\n",
              "    animation:\n",
              "      spin 1s steps(1) infinite;\n",
              "  }\n",
              "\n",
              "  @keyframes spin {\n",
              "    0% {\n",
              "      border-color: transparent;\n",
              "      border-bottom-color: var(--fill-color);\n",
              "      border-left-color: var(--fill-color);\n",
              "    }\n",
              "    20% {\n",
              "      border-color: transparent;\n",
              "      border-left-color: var(--fill-color);\n",
              "      border-top-color: var(--fill-color);\n",
              "    }\n",
              "    30% {\n",
              "      border-color: transparent;\n",
              "      border-left-color: var(--fill-color);\n",
              "      border-top-color: var(--fill-color);\n",
              "      border-right-color: var(--fill-color);\n",
              "    }\n",
              "    40% {\n",
              "      border-color: transparent;\n",
              "      border-right-color: var(--fill-color);\n",
              "      border-top-color: var(--fill-color);\n",
              "    }\n",
              "    60% {\n",
              "      border-color: transparent;\n",
              "      border-right-color: var(--fill-color);\n",
              "    }\n",
              "    80% {\n",
              "      border-color: transparent;\n",
              "      border-right-color: var(--fill-color);\n",
              "      border-bottom-color: var(--fill-color);\n",
              "    }\n",
              "    90% {\n",
              "      border-color: transparent;\n",
              "      border-bottom-color: var(--fill-color);\n",
              "    }\n",
              "  }\n",
              "</style>\n",
              "\n",
              "  <script>\n",
              "    async function quickchart(key) {\n",
              "      const quickchartButtonEl =\n",
              "        document.querySelector('#' + key + ' button');\n",
              "      quickchartButtonEl.disabled = true;  // To prevent multiple clicks.\n",
              "      quickchartButtonEl.classList.add('colab-df-spinner');\n",
              "      try {\n",
              "        const charts = await google.colab.kernel.invokeFunction(\n",
              "            'suggestCharts', [key], {});\n",
              "      } catch (error) {\n",
              "        console.error('Error during call to suggestCharts:', error);\n",
              "      }\n",
              "      quickchartButtonEl.classList.remove('colab-df-spinner');\n",
              "      quickchartButtonEl.classList.add('colab-df-quickchart-complete');\n",
              "    }\n",
              "    (() => {\n",
              "      let quickchartButtonEl =\n",
              "        document.querySelector('#df-5b6cc3ba-66bb-4467-a4d9-babddcdeea61 button');\n",
              "      quickchartButtonEl.style.display =\n",
              "        google.colab.kernel.accessAllowed ? 'block' : 'none';\n",
              "    })();\n",
              "  </script>\n",
              "</div>\n",
              "    </div>\n",
              "  </div>\n"
            ]
          },
          "metadata": {},
          "execution_count": 268
        }
      ]
    },
    {
      "cell_type": "markdown",
      "source": [
        "2.   Text preprocessing"
      ],
      "metadata": {
        "id": "LPSfOFD74Q5e"
      }
    },
    {
      "cell_type": "code",
      "source": [
        "stopwords = _stop_words.ENGLISH_STOP_WORDS\n",
        "def clean(text1): # text1 is a string of text\n",
        "    text1 = text1.replace(\"</br>\", \" \") # removing tags\n",
        "    text1 = \"\".join([char for char in text1 if char not in string.punctuation and not char.isdigit()])\n",
        "    text1 = \" \".join([token for token in text1.split() if token not in stopwords])\n",
        "    return text1"
      ],
      "metadata": {
        "id": "DhNRjvpt3Hut"
      },
      "execution_count": null,
      "outputs": []
    },
    {
      "cell_type": "markdown",
      "source": [
        "3. Modeling\n",
        "\n",
        "* Split the data into training and test sets;\n",
        "* Extract features from the training data using CountVectorizer. We will use the pre-processing function above in conjunction with CountVectorizer;\n",
        "* Transform the test data into the same feature vector as the training data;\n",
        "* Train the classifier;\n",
        "* Evaluate the classifier.\n",
        "\n"
      ],
      "metadata": {
        "id": "8gAiOJtvTEEE"
      }
    },
    {
      "cell_type": "code",
      "source": [
        "X = data2.text\n",
        "y = data2.relevance\n",
        "print(X.shape, y.shape)\n",
        "\n",
        "X_train, X_test, y_train, y_test = train_test_split(X, y, random_state = 1)\n",
        "print(f'X_train.shape -> {X_train.shape}, y_train.shape -> {y_train.shape}')\n",
        "print(f'X_test.hape -> {X_test.shape}, y_test.hape -> {y_test.shape}')"
      ],
      "metadata": {
        "id": "PItUpza3TjIg",
        "colab": {
          "base_uri": "https://localhost:8080/"
        },
        "outputId": "283213f7-9a63-4279-b7a2-904bb0ba98d5"
      },
      "execution_count": null,
      "outputs": [
        {
          "output_type": "stream",
          "name": "stdout",
          "text": [
            "(7991,) (7991,)\n",
            "X_train.shape -> (5993,), y_train.shape -> (5993,)\n",
            "X_test.hape -> (1998,), y_test.hape -> (1998,)\n"
          ]
        }
      ]
    },
    {
      "cell_type": "code",
      "source": [
        "vector = CountVectorizer(preprocessor = clean)\n",
        "\n",
        "X_train_dtm = vector.fit_transform(X_train)\n",
        "X_test_dtm = vector.transform(X_test)\n",
        "print(f'X_train_dtm.shape -> {X_train_dtm.shape}')\n",
        "print(f'X_test_dtm.shape -> {X_test_dtm.shape}')"
      ],
      "metadata": {
        "colab": {
          "base_uri": "https://localhost:8080/"
        },
        "id": "hsni4mV1pwzQ",
        "outputId": "0a4eb755-2a40-43b5-b776-d0de52e2b615"
      },
      "execution_count": null,
      "outputs": [
        {
          "output_type": "stream",
          "name": "stdout",
          "text": [
            "X_train_dtm.shape -> (5993, 51110)\n",
            "X_test_dtm.shape -> (1998, 51110)\n"
          ]
        }
      ]
    },
    {
      "cell_type": "code",
      "source": [
        "# Naive Bayes\n",
        "\n",
        "nb = MultinomialNB()\n",
        "nb.fit(X_train_dtm, y_train)\n",
        "y_pred_class = nb.predict(X_test_dtm)\n"
      ],
      "metadata": {
        "id": "uvW-wvIiq34x"
      },
      "execution_count": null,
      "outputs": []
    },
    {
      "cell_type": "code",
      "source": [
        "# Ploting the results for a better analyze\n",
        "\n",
        "def plot_confusion_matrix(cm, classes, normalize = False,\n",
        "                          tittle = 'Confusion Matrix', cmap = plt.cm.Blues):\n",
        "    if normalize:\n",
        "        cm = cm.astype('float') / cm.sum(axis = 1)[:, np.newaxis]\n",
        "\n",
        "    plt.imshow(cm, interpolation = 'nearest', cmap = cmap)\n",
        "    plt.title(tittle)\n",
        "    plt.colorbar()\n",
        "    tick_marks = np.arange(len(classes))\n",
        "    plt.xticks(tick_marks, classes, rotation = 45)\n",
        "    plt.yticks(tick_marks, classes)\n",
        "\n",
        "    fmt = '.2f' if normalize else 'd'\n",
        "    thresh = cm.max() / 2.\n",
        "    for i, j in itertools.product(range(cm.shape[0]), range(cm.shape[1])):\n",
        "        plt.text(i, j, format(cm[i, j], fmt), horizontalalignment = 'center',\n",
        "        color = 'black')\n",
        "\n",
        "    plt.tight_layout()\n",
        "    plt.xlabel('Predicted label', fontsize = 15)\n",
        "    plt.ylabel('True label', fontsize = 15)\n"
      ],
      "metadata": {
        "id": "4a2hlCUhrihW"
      },
      "execution_count": null,
      "outputs": []
    },
    {
      "cell_type": "code",
      "source": [
        "print('Accuracy: ', accuracy_score(y_test, y_pred_class))"
      ],
      "metadata": {
        "colab": {
          "base_uri": "https://localhost:8080/"
        },
        "id": "04wafsQ-tk7I",
        "outputId": "d6352bce-37df-4245-aaa6-02921475c562"
      },
      "execution_count": null,
      "outputs": [
        {
          "output_type": "stream",
          "name": "stdout",
          "text": [
            "Accuracy:  0.7827827827827828\n"
          ]
        }
      ]
    },
    {
      "cell_type": "code",
      "source": [
        "conf_matrix = confusion_matrix(y_test, y_pred_class)\n",
        "plt.figure(figsize = (8, 6))\n",
        "plot_confusion_matrix(conf_matrix, classes = ['Not Relevant', 'Relevant'],\n",
        "                      normalize = True, tittle = 'Confusion Matrix')\n"
      ],
      "metadata": {
        "colab": {
          "base_uri": "https://localhost:8080/",
          "height": 632
        },
        "id": "1nGcxhkLvVwz",
        "outputId": "5cfeb92f-f65a-4bba-8799-aa1bea2d055a"
      },
      "execution_count": null,
      "outputs": [
        {
          "output_type": "display_data",
          "data": {
            "text/plain": [
              "<Figure size 800x600 with 2 Axes>"
            ],
            "image/png": "[encoded data removed]"
          },
          "metadata": {}
        }
      ]
    },
    {
      "cell_type": "code",
      "source": [
        "y_pred_prob = nb.predict_proba(X_test_dtm)[:, 1]\n",
        "print('ROC: ', metrics.roc_auc_score(y_test, y_pred_prob))"
      ],
      "metadata": {
        "colab": {
          "base_uri": "https://localhost:8080/"
        },
        "id": "f0ecU6j2T51X",
        "outputId": "699505db-ef67-4722-bebc-0890c85eea19"
      },
      "execution_count": null,
      "outputs": [
        {
          "output_type": "stream",
          "name": "stdout",
          "text": [
            "ROC:  0.7228499237223495\n"
          ]
        }
      ]
    },
    {
      "cell_type": "code",
      "source": [
        "# We will try to change the vectorizer to take a certain number of features as maximum\n",
        "\n",
        "vector = CountVectorizer(preprocessor = clean, max_features = 5000)\n",
        "X_train_dtm = vector.fit_transform(X_train)\n",
        "X_test_dtm = vector.transform(X_test)\n",
        "\n",
        "nb = MultinomialNB()\n",
        "%time nb.fit(X_train_dtm, y_train)\n",
        "y_pred_class = nb.predict(X_test_dtm)\n",
        "print(\"Accuracy: \", metrics.accuracy_score(y_test, y_pred_class))\n",
        "\n",
        "conf_matrix = confusion_matrix(y_test, y_pred_class)\n",
        "plt.figure(figsize=(8,6))\n",
        "plot_confusion_matrix(conf_matrix, classes = ['Not Relevant','Relevant'],normalize = True,\n",
        "                      tittle = 'Confusion matrix with max 5000 features')\n"
      ],
      "metadata": {
        "colab": {
          "base_uri": "https://localhost:8080/",
          "height": 684
        },
        "id": "Pr_AMHzBwCyY",
        "outputId": "25fe88c7-43de-43f9-d343-5483c6e84dc8"
      },
      "execution_count": null,
      "outputs": [
        {
          "output_type": "stream",
          "name": "stdout",
          "text": [
            "CPU times: user 6.96 ms, sys: 805 µs, total: 7.77 ms\n",
            "Wall time: 7.75 ms\n",
            "Accuracy:  0.6881881881881882\n"
          ]
        },
        {
          "output_type": "display_data",
          "data": {
            "text/plain": [
              "<Figure size 800x600 with 2 Axes>"
            ],
            "image/png": "[encoded data removed]"
          },
          "metadata": {}
        }
      ]
    },
    {
      "cell_type": "markdown",
      "source": [
        "Reducing the feature vector size, we didn't receive a better accuracy, but we have a better balance in relation to the identification of relevant and non-relevant features, which is the point of our research."
      ],
      "metadata": {
        "id": "yaj3M3idys5P"
      }
    },
    {
      "cell_type": "code",
      "source": [
        "# Logistic Regression\n",
        "\n",
        "lr = LogisticRegression(class_weight = 'balanced')\n",
        "lr.fit(X_train_dtm, y_train)\n",
        "y_pred_class = lr.predict(X_test_dtm)\n",
        "\n",
        "print('Accuracy: ', accuracy_score(y_test, y_pred_class))\n",
        "print('AUC: ', metrics.roc_auc_score(y_test, y_pred_prob))\n",
        "\n",
        "conf_matrix = confusion_matrix(y_test, y_pred_class)\n",
        "plt.figure(figsize = (8, 6))\n",
        "plot_confusion_matrix(conf_matrix, classes = ['Not Relevant', 'Relevant'],\n",
        "                      normalize = True, tittle = 'Confusion Matrix n Normalization')"
      ],
      "metadata": {
        "id": "yWTtU0oZzonX",
        "colab": {
          "base_uri": "https://localhost:8080/",
          "height": 667
        },
        "outputId": "9eccf2be-b59e-4dae-ef82-03b22d543646"
      },
      "execution_count": null,
      "outputs": [
        {
          "output_type": "stream",
          "name": "stdout",
          "text": [
            "Accuracy:  0.7427427427427428\n",
            "AUC:  0.7228499237223495\n"
          ]
        },
        {
          "output_type": "display_data",
          "data": {
            "text/plain": [
              "<Figure size 800x600 with 2 Axes>"
            ],
            "image/png": "[encoded data removed]"
          },
          "metadata": {}
        }
      ]
    },
    {
      "cell_type": "code",
      "source": [
        "# SVM Classifier\n",
        "\n",
        "vector = CountVectorizer(preprocessor = clean, max_features = 1000)\n",
        "X_train_dtm = vector.fit_transform(X_train)\n",
        "X_test_dtm = vector.fit_transform(X_test)\n",
        "classifier = LinearSVC(class_weight = 'balanced')\n",
        "classifier.fit(X_train_dtm, y_train)\n",
        "y_pred_class = classifier.predict(X_test_dtm)\n",
        "\n",
        "print('Accuracy: ', accuracy_score(y_test, y_pred_class))\n",
        "print('ROC: ', metrics.roc_auc_score(y_test, y_pred_prob))\n",
        "\n",
        "conf_matrix = confusion_matrix(y_test, y_pred_class)\n",
        "plt.figure(figsize = (8, 6))\n",
        "plot_confusion_matrix(conf_matrix, classes = ['Not Relevant', 'Relevant'],\n",
        "                      normalize = True, tittle = 'Confusion matrix n normalization')\n"
      ],
      "metadata": {
        "colab": {
          "base_uri": "https://localhost:8080/",
          "height": 667
        },
        "id": "w7uREPtnUuc7",
        "outputId": "e4be5249-04a1-4fda-8acb-412eafad2e39"
      },
      "execution_count": null,
      "outputs": [
        {
          "output_type": "stream",
          "name": "stdout",
          "text": [
            "Accuracy:  0.7202202202202203\n",
            "ROC:  0.7228499237223495\n"
          ]
        },
        {
          "output_type": "display_data",
          "data": {
            "text/plain": [
              "<Figure size 800x600 with 2 Axes>"
            ],
            "image/png": "[encoded data removed]"
          },
          "metadata": {}
        }
      ]
    }
  ]
}